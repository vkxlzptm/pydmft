{
 "cells": [
  {
   "cell_type": "code",
   "execution_count": 2,
   "metadata": {},
   "outputs": [],
   "source": [
    "%matplotlib inline"
   ]
  },
  {
   "cell_type": "markdown",
   "metadata": {},
   "source": [
    "\n",
    "# The Metal Mott Insulator transition\n",
    "\n",
    "\n",
    "Using a real frequency IPT solver follow the spectral function along\n",
    "the metal to insulator transition.\n",
    "\n",
    "\n"
   ]
  },
  {
   "cell_type": "code",
   "execution_count": 1,
   "metadata": {},
   "outputs": [
    {
     "data": {
      "text/plain": [
       "<Figure size 640x480 with 1 Axes>"
      ]
     },
     "metadata": {},
     "output_type": "display_data"
    }
   ],
   "source": [
    "from __future__ import division, absolute_import, print_function\n",
    "\n",
    "import numpy as np\n",
    "import matplotlib.pylab as plt\n",
    "\n",
    "import dmft.common as gf\n",
    "import dmft.ipt_real as ipt\n",
    "\n",
    "\n",
    "w = np.linspace(-4, 4, 2**12)\n",
    "gloc = gf.semi_circle_hiltrans(w+ -1j)\n",
    "\n",
    "urange = [0.2, 1., 2., 3., 3.5, 4.]\n",
    "plt.close('all')\n",
    "for i, U in enumerate(urange):\n",
    "    gloc, sigma_loc = ipt.ss_dmft_loop(gloc, w, U, 400, 1e-5)\n",
    "\n",
    "    plt.gca().set_prop_cycle(None) # plot color cycle색이 처음부터. 'None resets to the cycle defined by the current style.'\n",
    "    shift = -2.1 * i \n",
    "    plt.plot(w, shift + -gloc.imag)\n",
    "    plt.axhline(shift, color='k', lw=0.5)\n",
    "\n",
    "plt.xlabel(r'$\\omega$')\n",
    "plt.xlim([-4, 4])\n",
    "plt.ylim([shift, 2.1])\n",
    "plt.yticks(0.5 - 2.1 * np.arange(len(urange)), ['U=' + str(u) for u in urange])\n",
    "plt.show()"
   ]
  },
  {
   "cell_type": "code",
   "execution_count": 14,
   "metadata": {},
   "outputs": [
    {
     "data": {
      "text/plain": [
       "complex"
      ]
     },
     "execution_count": 14,
     "metadata": {},
     "output_type": "execute_result"
    }
   ],
   "source": [
    "type(1+0j)"
   ]
  }
 ],
 "metadata": {
  "kernelspec": {
   "display_name": "Python 3",
   "language": "python",
   "name": "python3"
  },
  "language_info": {
   "codemirror_mode": {
    "name": "ipython",
    "version": 3
   },
   "file_extension": ".py",
   "mimetype": "text/x-python",
   "name": "python",
   "nbconvert_exporter": "python",
   "pygments_lexer": "ipython3",
   "version": "3.6.9"
  }
 },
 "nbformat": 4,
 "nbformat_minor": 1
}
